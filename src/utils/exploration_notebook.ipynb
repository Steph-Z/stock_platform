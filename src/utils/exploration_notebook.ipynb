{
 "cells": [
  {
   "cell_type": "markdown",
   "id": "d63718f0",
   "metadata": {},
   "source": [
    "***This Notebook is used to get a first look at everything before organizing it into .py files and integrating it into a deployable app***"
   ]
  },
  {
   "cell_type": "code",
   "execution_count": 8,
   "id": "dbafacb0",
   "metadata": {},
   "outputs": [],
   "source": [
    "#imports\n",
    "import pandas as pd\n",
    "import yfinance as yf\n",
    "import plotly.express as px\n",
    "from pathlib import Path"
   ]
  },
  {
   "cell_type": "code",
   "execution_count": 24,
   "id": "3152c1bf",
   "metadata": {},
   "outputs": [],
   "source": [
    "#set the working directory to the folder that the requirments.txt file is in \n",
    "def get_root_directory(filename: str = 'requirements.txt'):\n",
    "    '''Searches the path of the file and parent directories for the requirements.txt file \n",
    "    and returns the wd to the folder that contains the requirements.\n",
    "    This way we can find the absolute path the root\n",
    "   '''\n",
    "    current_dir = Path.cwd()\n",
    "    for parent in [current_dir, *current_dir.parents]: #the * unpacks the parents into a list with multiple entries, otherwise i just use the path object\n",
    "        if (parent / filename).exists():\n",
    "            return parent\n",
    "    #IF we can not find it, raise an error \n",
    "    raise FileNotFoundError(f\"Could not find {filename} in any parent directory\")\n"
   ]
  },
  {
   "cell_type": "code",
   "execution_count": 25,
   "id": "5b3603ee",
   "metadata": {},
   "outputs": [
    {
     "data": {
      "text/plain": [
       "WindowsPath('c:/Users/steph/Documents/python_scripts/stock_platform')"
      ]
     },
     "execution_count": 25,
     "metadata": {},
     "output_type": "execute_result"
    }
   ],
   "source": [
    "get_root_directory()"
   ]
  },
  {
   "cell_type": "code",
   "execution_count": null,
   "id": "4474bcd6",
   "metadata": {},
   "outputs": [],
   "source": []
  }
 ],
 "metadata": {
  "kernelspec": {
   "display_name": "stock_env",
   "language": "python",
   "name": "python3"
  },
  "language_info": {
   "codemirror_mode": {
    "name": "ipython",
    "version": 3
   },
   "file_extension": ".py",
   "mimetype": "text/x-python",
   "name": "python",
   "nbconvert_exporter": "python",
   "pygments_lexer": "ipython3",
   "version": "3.13.7"
  }
 },
 "nbformat": 4,
 "nbformat_minor": 5
}
