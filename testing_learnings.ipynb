{
 "cells": [
  {
   "cell_type": "markdown",
   "id": "6610f4d3",
   "metadata": {},
   "source": [
    "***In this notebook I'll gathe rsome of the insights and personal learnings from this project.***\n",
    "Since I am learning the Software development side of Data Science and ML I want to reflect on the lessons learned here. "
   ]
  },
  {
   "cell_type": "markdown",
   "id": "68fa6dad",
   "metadata": {},
   "source": [
    "A first focus of mine is the testing of Code, since until now I mostly handled it by picking the most difficult samples in my dataset, parsed thenm through the pipelines and even when writing the pipelines thought about \"how can I make this stable in case of difficulty/irregularity xyz, this worked fine for research projects with a maximum number of 3 people working on the code (all farmiliar with posible irregularities), but it fails in a larger setup. \n",
    "\n"
   ]
  },
  {
   "cell_type": "markdown",
   "id": "bb65a745",
   "metadata": {},
   "source": [
    "In the Dashboard I want to allow users to pick a Stock of theris choice by using the ISIN or ticker symbol. To communicate with yfinance I need to use the ticker symbol so I wrote a function that turns the ISIN into the ticker symbol. "
   ]
  },
  {
   "cell_type": "markdown",
   "id": "8f490265",
   "metadata": {},
   "source": [
    "The initial one looks like this but has a lot of problems. "
   ]
  },
  {
   "cell_type": "code",
   "execution_count": null,
   "id": "79cf49b2",
   "metadata": {},
   "outputs": [],
   "source": [
    "import yfinance as yf #does not really matter its not supposed to work here\n",
    "\n",
    "def isin_ticker_to_ticker(ticker_isin:str):\n",
    "    '''checks if the input is a ticker or Isin and returns the isin as a ticker for easy use with yfinance'''\n",
    "    \n",
    "    if len(ticker_isin) == 12:\n",
    "        ticker = yf.Ticker(f'{ticker_isin}')\n",
    "        return ticker.ticker\n",
    "    else:\n",
    "        return ticker_isin"
   ]
  },
  {
   "cell_type": "markdown",
   "id": "176c252e",
   "metadata": {},
   "source": [
    "I do not handle cases where the isin is not correct or the user types in something else. \n",
    "I always output the result as the ticker:isin variable even if it is not valid so consecutive functions might fail to retrieve data etc. \n",
    "So I need to make the function much more robust.\n",
    " <break>\n",
    "\n",
    "additionally, i need to make sure that only valid isisns and tickers aenter the function. \n",
    "Also the validation process can be made in a way that does not call the internet I/O so we do not have to use the network for this\n",
    "WE also need to have a solution for the case that something invalid is entered\n",
    "\n",
    "<break>\n",
    "IT was pointed out to me that the tests should all be done and doable without a connection to hte internet if possible in order to ensure they are speedy and do not fail. So we  should not use yf.Ticker for testing the code we can use a dummy "
   ]
  },
  {
   "cell_type": "markdown",
   "id": "3d388f40",
   "metadata": {},
   "source": [
    "*Concepts to learn here*\n",
    "\n",
    "- make the validation function more robust by adding the option what kind of function is used to test if the input is correct, for testing use one where the solution is more or less \"hardcoded\" so no network call is done, for production use the general solution that mght require a network check. \n",
    "- separate the logic as much as possible, so checking hte input should be different from transforming the input "
   ]
  },
  {
   "cell_type": "code",
   "execution_count": null,
   "id": "571b6a8d",
   "metadata": {},
   "outputs": [],
   "source": [
    "#Lets think about possible inputs \n",
    "\n",
    "# AAPL, real ticker,\n",
    "# US0378331005, an ISIN\n",
    "# dasdadaa , random things \n",
    "# ,.121212   , numbrs and special symbols\n",
    "# Isins or tickers that look real but are not "
   ]
  },
  {
   "cell_type": "code",
   "execution_count": null,
   "id": "c8eb32d2",
   "metadata": {},
   "outputs": [],
   "source": [
    "# Checking if an ISIN is Valid \n",
    "#Im not the first who encountered the problem so lets see that we can do:\n",
    "#https://www.geeksforgeeks.org/dsa/how-to-validate-isin-using-regular-expressions/\n",
    "#https://en.wikipedia.org/wiki/International_Securities_Identification_Number\n",
    "# the wiki artivce describes the process\n",
    "#the last number is a check digit \n",
    "#also, but not on the website, an isin has a checksum we can check additionally. So lets implement the check of the last digit as well\n",
    "#This is known as luhn algorithm and can easily be found online as well\n",
    "#https://en.wikipedia.org/wiki/Luhn_algorithm, even with pseudocode \n",
    "\n",
    "import re #we can use regular expressions to check \n",
    "import yfinance as yf \n",
    "\n",
    "\n",
    "def isValid_ISIN_Code(str):\n",
    "    \n",
    "    ##https://www.geeksforgeeks.org/dsa/how-to-validate-isin-using-regular-expressions/\n",
    "\n",
    "    # Regex to check valid ISIN Code\n",
    "    regex = \"^[A-Z]{2}[-]{0, 1}[0-9A-Z]{8}[-]{0, 1}[0-9]{1}$\"\n",
    "\n",
    "    # Compile the ReGex\n",
    "    p = re.compile(regex)\n",
    "\n",
    "    # If the string is empty\n",
    "    # return false\n",
    "    if (str == None):\n",
    "        return False\n",
    "\n",
    "    # Return if the string\n",
    "    # matched the ReGex\n",
    "    if(re.search(p, str)):\n",
    "        return True\n",
    "    else:\n",
    "        return False\n"
   ]
  }
 ],
 "metadata": {
  "kernelspec": {
   "display_name": "stock_env",
   "language": "python",
   "name": "python3"
  },
  "language_info": {
   "codemirror_mode": {
    "name": "ipython",
    "version": 3
   },
   "file_extension": ".py",
   "mimetype": "text/x-python",
   "name": "python",
   "nbconvert_exporter": "python",
   "pygments_lexer": "ipython3",
   "version": "3.13.7"
  }
 },
 "nbformat": 4,
 "nbformat_minor": 5
}
