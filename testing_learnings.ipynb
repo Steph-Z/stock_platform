{
 "cells": [
  {
   "cell_type": "markdown",
   "id": "6610f4d3",
   "metadata": {},
   "source": [
    "***In this notebook I'll gathe rsome of the insights and personal learnings from this project.***\n",
    "Since I am learning the Software development side of Data Science and ML I want to reflect on the lessons learned here. "
   ]
  },
  {
   "cell_type": "markdown",
   "id": "68fa6dad",
   "metadata": {},
   "source": [
    "A first focus of mine is the testing of Code, since until now I mostly handled it by picking the most difficult samples in my dataset, parsed thenm through the pipelines and even when writing the pipelines thought about \"how can I make this stable in case of difficulty/irregularity xyz, this worked fine for research projects with a maximum number of 3 people working on the code (all farmiliar with posible irregularities), but it fails in a larger setup. \n",
    "\n"
   ]
  },
  {
   "cell_type": "markdown",
   "id": "bb65a745",
   "metadata": {},
   "source": [
    "In the Dashboard I want to allow users to pick a Stock of theris choice by using the ISIN or ticker symbol. To communicate with yfinance I need to use the ticker symbol so I wrote a function that turns the ISIN into the ticker symbol. "
   ]
  },
  {
   "cell_type": "markdown",
   "id": "8f490265",
   "metadata": {},
   "source": [
    "The initial one looks like this but has a lot of problems. "
   ]
  },
  {
   "cell_type": "code",
   "execution_count": null,
   "id": "79cf49b2",
   "metadata": {},
   "outputs": [],
   "source": [
    "import yfinance as yf #does not really matter its not supposed to work here\n",
    "\n",
    "def isin_ticker_to_ticker(ticker_isin:str):\n",
    "    '''checks if the input is a ticker or Isin and returns the isin as a ticker for easy use with yfinance'''\n",
    "    \n",
    "    if len(ticker_isin) == 12:\n",
    "        ticker = yf.Ticker(f'{ticker_isin}')\n",
    "        return ticker.ticker\n",
    "    else:\n",
    "        return ticker_isin"
   ]
  },
  {
   "cell_type": "markdown",
   "id": "176c252e",
   "metadata": {},
   "source": [
    "I do not handle cases where the isin is not correct or the user types in something else. \n",
    "I always output the result as the ticker:isin variable even if it is not valid so consecutive functions might fail to retrieve data etc. \n",
    "So I need to make the function much more robust.\n",
    " <break>\n",
    "\n",
    "additionally, i need to make sure that only valid isisns and tickers aenter the function. \n",
    "Also the validation process can be made in a way that does not call the internet I/O so we do not have to use the network for this\n",
    "WE also need to have a solution for the case that something invalid is entered\n",
    "\n",
    "<break>\n",
    "IT was pointed out to me that the tests should all be done and doable without a connection to hte internet if possible in order to ensure they are speedy and do not fail. So we  should not use yf.Ticker for testing the code we can use a dummy "
   ]
  },
  {
   "cell_type": "markdown",
   "id": "3d388f40",
   "metadata": {},
   "source": [
    "*Concepts to learn here*\n",
    "\n",
    "- make the validation function more robust by adding the option what kind of function is used to test if the input is correct, for testing use one where the solution is more or less \"hardcoded\" so no network call is done, for production use the general solution that mght require a network check. \n",
    "- separate the logic as much as possible, so checking hte input should be different from transforming the input \n",
    "- turns out the quest for learning how to test code turned into a deepdive on ISINs, but in this case it is needed to have a reliable check. \n",
    "- Note to mayself Keep functions simpler. separate logic even if thoughts go together more often ! \n"
   ]
  },
  {
   "cell_type": "markdown",
   "id": "f59a1c0b",
   "metadata": {},
   "source": [
    "**Below is a robost implementation of a check for a given isin.**\n",
    "<break>\n",
    "\n",
    "Since there is no easy/offline way withut a lookup for a ticker I ll focus on the isin for now, the Ticker part is below that. "
   ]
  },
  {
   "cell_type": "code",
   "execution_count": null,
   "id": "571b6a8d",
   "metadata": {},
   "outputs": [],
   "source": [
    "#Lets think about possible inputs \n",
    "\n",
    "# AAPL, real ticker,\n",
    "# US0378331005, an ISIN or us\n",
    "# dasdadaa , random things \n",
    "# ,.121212   , numbrs and special symbols\n",
    "# Isins or tickers that look real but are not \n",
    "\n",
    "#So mixed upper and lower case letters, a dash symbol somewhere "
   ]
  },
  {
   "cell_type": "code",
   "execution_count": 144,
   "id": "c8eb32d2",
   "metadata": {},
   "outputs": [],
   "source": [
    "# Checking if an ISIN is Valid \n",
    "#Im not the first who encountered the problem so lets see that we can do:\n",
    "#https://www.geeksforgeeks.org/dsa/how-to-validate-isin-using-regular-expressions/\n",
    "#https://en.wikipedia.org/wiki/International_Securities_Identification_Number\n",
    "# the wiki artivce describes the process\n",
    "#the last number is a check digit \n",
    "#also, but not on the website, an isin has a checksum we can check additionally. So lets implement the check of the last digit as well\n",
    "#This is known as luhn algorithm and can easily be found online as well\n",
    "#https://en.wikipedia.org/wiki/Luhn_algorithm, even with pseudocode \n",
    "\n",
    "import re #we can use regular expressions to check \n",
    "isin_appl = ' us-037833100-5'\n",
    "#Note after finishing this section: this was fun but making something robust to human into is weird. Sensor data is much simpler in that regard\n",
    "\n",
    "def input_case_insensitive(isin_input):\n",
    "    '''returns a case insensitive version of the user input'''\n",
    "    return isin_input.upper().strip().replace(' ', '') #transforms to upper, removes spaces in all positions\n",
    "\n",
    "def remove_dashes(isin_input: str):\n",
    "    '''removes the dashes from a seemingly valid isin in case there are any '''\n",
    "    \n",
    "    newstr = isin_input.replace('-', '')\n",
    "    return newstr\n",
    "\n",
    "def isValid_ISIN_Code(isin_input: str):\n",
    "    \n",
    "    ##https://www.geeksforgeeks.org/dsa/how-to-validate-isin-using-regular-expressions/\n",
    "\n",
    "    # Regex to check valid ISIN Code\n",
    "    regex = \"^[A-Z]{0,1}[0-9A-Z]{9}[0-9]{1}$\" #original function contained an option to check for dashes, removed in prev. step now\n",
    "\n",
    "    # Compile the ReGex\n",
    "    p = re.compile(regex)\n",
    "\n",
    "    # If the string is empty\n",
    "    # return false\n",
    "    if (isin_input == None):\n",
    "        return False\n",
    "\n",
    "    # Return if the string\n",
    "    # matched the ReGex\n",
    "    if(re.search(p, isin_input)):\n",
    "        return True\n",
    "    else:\n",
    "        return False\n",
    "    \n",
    "#Luhns algo\n",
    "#for conversion of letters need to look at wiki artivle of isin\n",
    "#I really did not expect this much depths for such a \"simple\" task\n",
    "#convert letters to ascii -55 \n",
    "\n",
    "def check_luhns(isin_input):\n",
    "    '''the str will have passed the is isin valid function. \n",
    "    checks if the isin is correct by employing luhn algorithm\n",
    "    #https://en.wikipedia.org/wiki/Luhn_algorithm, even with pseudocode '''\n",
    "    \n",
    "    #Takes care of the possible characters in the isin\n",
    "    transformed_isin = \"\"\n",
    "    for ch in isin_input:\n",
    "        if ch.isdigit():\n",
    "            transformed_isin+= ch\n",
    "        else:\n",
    "            transformed_isin += str(ord(ch)-55)\n",
    "            \n",
    "    #Now we can apply the actual algorithm\n",
    "    checksum = 0\n",
    "    parity = len(transformed_isin) % 2\n",
    "    \n",
    "    for idx, digit in enumerate(transformed_isin[:-1]): #iterate through the isin but omit checksum number \n",
    "        number = int(digit)\n",
    "        if (idx+1) % 2 == parity: #not digit, look pseudocode....\n",
    "            checksum += number\n",
    "        elif number > 4:\n",
    "            checksum += 2* number -9\n",
    "        else:\n",
    "            checksum += 2* number\n",
    "\n",
    "    return int(transformed_isin[-1]) == ((10 - (checksum % 10)) % 10)\n",
    "\n"
   ]
  },
  {
   "cell_type": "code",
   "execution_count": 145,
   "id": "d4a8dd59",
   "metadata": {},
   "outputs": [
    {
     "data": {
      "text/plain": [
       "False"
      ]
     },
     "execution_count": 145,
     "metadata": {},
     "output_type": "execute_result"
    }
   ],
   "source": [
    "isValid_ISIN_Code(isin_input= input_case_insensitive(remove_dashes(isin_appl)))"
   ]
  },
  {
   "cell_type": "code",
   "execution_count": 146,
   "id": "693f5224",
   "metadata": {},
   "outputs": [
    {
     "data": {
      "text/plain": [
       "True"
      ]
     },
     "execution_count": 146,
     "metadata": {},
     "output_type": "execute_result"
    }
   ],
   "source": [
    "check_luhns(input_case_insensitive(remove_dashes(isin_appl)))"
   ]
  },
  {
   "cell_type": "markdown",
   "id": "9b76a255",
   "metadata": {},
   "source": [
    "**What about thee ticker instead of ISIN**"
   ]
  },
  {
   "cell_type": "code",
   "execution_count": null,
   "id": "a190382a",
   "metadata": {},
   "outputs": [],
   "source": [
    "#tickers max len is 5.\n",
    "#si if input len is less than 12 , user might have a space in the input  for a ticker an min len of isin is 12\n",
    "#we go down the ticker check route, which is always a call to the yfinance api for a lookup. for the test I avoid this by hardcoding an example with APPLE\n",
    "#using a mock class to ckeck. (this was a fun learning)\n"
   ]
  },
  {
   "cell_type": "code",
   "execution_count": 148,
   "id": "636e2915",
   "metadata": {},
   "outputs": [
    {
     "name": "stderr",
     "output_type": "stream",
     "text": [
      "HTTP Error 404: {\"quoteSummary\":{\"result\":null,\"error\":{\"code\":\"Not Found\",\"description\":\"Quote not found for symbol: ASDPL\"}}}\n"
     ]
    },
    {
     "data": {
      "text/plain": [
       "False"
      ]
     },
     "execution_count": 148,
     "metadata": {},
     "output_type": "execute_result"
    }
   ],
   "source": [
    "def check_ticker(user_input: str, check_function = None):\n",
    "    '''takes a users input that resembles a ticker and checks if it is valid,\n",
    "    has an input for the check function to avoid online lookup during testing,\n",
    "    to check, see if it has a price during market hours'''\n",
    "    \n",
    "    try:\n",
    "        if check_function(user_input).info['regularMarketPrice'] is not None:\n",
    "            return True\n",
    "        else: \n",
    "            return False\n",
    "    except Exception:\n",
    "        return False\n",
    "    \n",
    "check_ticker('asdPL', check_function= yf.Ticker)"
   ]
  },
  {
   "cell_type": "code",
   "execution_count": 155,
   "id": "2ee46c06",
   "metadata": {},
   "outputs": [
    {
     "data": {
      "text/plain": [
       "True"
      ]
     },
     "execution_count": 155,
     "metadata": {},
     "output_type": "execute_result"
    }
   ],
   "source": [
    "check_ticker(input_case_insensitive('aapl'), check_function= yf.Ticker)"
   ]
  },
  {
   "cell_type": "code",
   "execution_count": 157,
   "id": "433f4c0c",
   "metadata": {},
   "outputs": [],
   "source": [
    "#For testing purposes we can use a fake class similar to yf.Ticker\n",
    "\n",
    "class FakeTicker:\n",
    "    def __init__(self, ticker):\n",
    "        self.info = {'regularMarketPrice': 1} if ticker == 'AAPL' else {}"
   ]
  },
  {
   "cell_type": "code",
   "execution_count": null,
   "id": "f1444b3f",
   "metadata": {},
   "outputs": [
    {
     "data": {
      "text/plain": [
       "True"
      ]
     },
     "execution_count": 159,
     "metadata": {},
     "output_type": "execute_result"
    }
   ],
   "source": [
    "check_ticker(input_case_insensitive('aapl'), check_function= FakeTicker)\n"
   ]
  },
  {
   "cell_type": "code",
   "execution_count": 160,
   "id": "88f88830",
   "metadata": {},
   "outputs": [
    {
     "data": {
      "text/plain": [
       "True"
      ]
     },
     "execution_count": 160,
     "metadata": {},
     "output_type": "execute_result"
    }
   ],
   "source": [
    "check_ticker(input_case_insensitive('AAPL'), check_function= FakeTicker)"
   ]
  },
  {
   "cell_type": "markdown",
   "id": "fadeb750",
   "metadata": {},
   "source": [
    "With these tests we now have a lot more code than the ~ 6 lines initially. But now it is a robust system. \n",
    "The Input of a user is cleaned, standardized and checked.\n",
    "- For the ISIN we check for dashes some people use, check the format using a regular expression and use Luhns algorithm to test if it is valid\n",
    "- For the ticker we do not have a way other than a lookup. But in order to allow testing without calling the yfinance library we have build a simple mock class next to the check of the ticker."
   ]
  }
 ],
 "metadata": {
  "kernelspec": {
   "display_name": "stock_env",
   "language": "python",
   "name": "python3"
  },
  "language_info": {
   "codemirror_mode": {
    "name": "ipython",
    "version": 3
   },
   "file_extension": ".py",
   "mimetype": "text/x-python",
   "name": "python",
   "nbconvert_exporter": "python",
   "pygments_lexer": "ipython3",
   "version": "3.13.7"
  }
 },
 "nbformat": 4,
 "nbformat_minor": 5
}
